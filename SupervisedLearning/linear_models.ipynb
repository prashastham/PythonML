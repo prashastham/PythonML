{
 "cells": [
  {
   "cell_type": "markdown",
   "id": "47114692",
   "metadata": {},
   "source": [
    "# Linear Models"
   ]
  },
  {
   "cell_type": "code",
   "execution_count": 1,
   "id": "63ae83d9",
   "metadata": {},
   "outputs": [],
   "source": [
    "import mglearn\n",
    "from sklearn.linear_model import LinearRegression\n",
    "from sklearn.model_selection import train_test_split\n",
    "\n",
    "X, y = mglearn.datasets.make_wave(n_samples=66)\n",
    "X_train, X_test, y_train, y_test =  train_test_split(X, y, random_state=42)\n",
    "\n",
    "lr = LinearRegression().fit(X_test, y_test)"
   ]
  },
  {
   "cell_type": "code",
   "execution_count": 2,
   "id": "2cadd6f4",
   "metadata": {},
   "outputs": [
    {
     "name": "stdout",
     "output_type": "stream",
     "text": [
      "lr.coef_: [0.39138238]\n",
      "lr.intercept_: 0.14984277364763426\n"
     ]
    }
   ],
   "source": [
    "print(\"lr.coef_: {}\".format(lr.coef_))\n",
    "print(\"lr.intercept_: {}\".format(lr.intercept_))"
   ]
  },
  {
   "cell_type": "code",
   "execution_count": 3,
   "id": "cda2eead",
   "metadata": {},
   "outputs": [
    {
     "name": "stdout",
     "output_type": "stream",
     "text": [
      "Training data score: 0.5571707908667112\n",
      "Test data score: 0.4448927947789355\n"
     ]
    }
   ],
   "source": [
    "print(\"Training data score: {}\".format(lr.score(X_train, y_train)))\n",
    "print(\"Test data score: {}\".format(lr.score(X_test, y_test)))"
   ]
  },
  {
   "cell_type": "markdown",
   "id": "8c0e4114",
   "metadata": {},
   "source": [
    "## Linear Regression on Higher dimensional dataset"
   ]
  },
  {
   "cell_type": "code",
   "execution_count": 4,
   "id": "6082f148",
   "metadata": {},
   "outputs": [],
   "source": [
    "X, y = mglearn.datasets.load_extended_boston()\n",
    "X_train, X_test, y_train, y_test = train_test_split(X, y, random_state=42)\n",
    "\n",
    "lr = LinearRegression().fit(X_train, y_train)"
   ]
  },
  {
   "cell_type": "code",
   "execution_count": 5,
   "id": "583db771",
   "metadata": {},
   "outputs": [
    {
     "name": "stdout",
     "output_type": "stream",
     "text": [
      "lr.coef_: [-5.11126504e+02  4.02559787e+00 -9.45778613e+01  1.34720251e+01\n",
      "  3.48176257e+01  6.03611391e+01  3.49707471e+01  2.94114542e+00\n",
      "  3.14525465e+00  8.20792132e+01  1.24254396e+01  3.86676075e+01\n",
      " -9.38409521e-01  1.32936334e+01  7.60317098e+02  1.42274855e+03\n",
      "  2.29220565e+02 -7.79405429e+01  8.79429261e+01  1.39813973e+01\n",
      "  1.02565346e+02  7.52178879e+02 -1.82071934e+03  5.34143172e+02\n",
      " -2.41122305e+01  1.11848898e+02 -4.38177813e+00 -1.23079894e+01\n",
      " -3.63360790e+00 -5.64878037e+01  4.60395879e-01  8.18005986e+00\n",
      " -2.06294404e+01 -3.49659791e+01  4.31717988e+01 -2.92220843e+00\n",
      "  1.45250942e+01 -3.24346333e+01  3.66984591e+01 -2.75859278e+00\n",
      "  6.27805740e+00  4.98379104e+01  6.55060318e+00  3.91047481e+01\n",
      " -1.14826290e+01 -8.00990322e-01 -3.68662287e+00  3.36483260e+01\n",
      " -1.49103502e+01  1.34720251e+01 -1.80244019e+01 -2.90956806e+01\n",
      " -2.78115796e+00 -1.10315060e+01  1.15584830e+00 -8.37313259e-01\n",
      " -7.89905136e+00  6.27950290e+00 -1.09538327e+01 -2.48389637e+01\n",
      " -1.16316264e+01 -3.00228631e+00  6.83518378e+01 -1.76428626e+01\n",
      "  6.10371772e+01 -6.12936496e+01 -1.14748321e+01  2.09075528e+01\n",
      "  3.32421356e+01 -4.11743268e+01 -2.19312422e+01 -2.08881337e+01\n",
      " -5.05858326e+01 -2.14714962e+01 -1.11593182e+01 -6.16458839e-01\n",
      " -1.12569338e+00 -1.40290786e-01  3.17622544e+01 -2.57159897e+01\n",
      "  5.51837314e-01 -1.33768644e+01 -3.25170630e+01  5.20806824e+01\n",
      "  1.08614313e-01 -3.62670514e+01 -2.68217433e+01 -3.42720513e+01\n",
      "  1.41341012e+01 -6.56371258e+01  8.64151127e+01 -3.08281756e+01\n",
      "  3.61562583e+01 -2.56736318e+01 -1.69118913e+01  3.35683331e+01\n",
      " -7.48792540e+01 -2.02885460e+01  3.35543349e+00  1.07705825e+01\n",
      "  3.50306579e+00 -5.10021527e+00  2.46929457e+00  2.55749022e+01]\n",
      "lr.intercept_: -34.70752210387513\n"
     ]
    }
   ],
   "source": [
    "print(\"lr.coef_: {}\".format(lr.coef_))\n",
    "print(\"lr.intercept_: {}\".format(lr.intercept_))"
   ]
  },
  {
   "cell_type": "code",
   "execution_count": 6,
   "id": "a07133c7",
   "metadata": {},
   "outputs": [
    {
     "name": "stdout",
     "output_type": "stream",
     "text": [
      "Training set score: 0.94\n",
      "Test set score: 0.78\n"
     ]
    }
   ],
   "source": [
    "print(\"Training set score: {:.2f}\".format(lr.score(X_train, y_train)))\n",
    "print(\"Test set score: {:.2f}\".format(lr.score(X_test, y_test)))"
   ]
  },
  {
   "cell_type": "markdown",
   "id": "0b37079e",
   "metadata": {},
   "source": [
    "> The discrepancy in training and test data score is a clear sign of overfitting. Try to find a model that allows us to control complexity"
   ]
  },
  {
   "cell_type": "markdown",
   "id": "d03765b0",
   "metadata": {},
   "source": [
    "## Ridge Regression"
   ]
  },
  {
   "cell_type": "code",
   "execution_count": 7,
   "id": "29bcabd1",
   "metadata": {},
   "outputs": [],
   "source": [
    "from sklearn.linear_model import Ridge\n",
    "\n",
    "ridge = Ridge().fit(X_train, y_train)"
   ]
  },
  {
   "cell_type": "code",
   "execution_count": 8,
   "id": "92572d05",
   "metadata": {},
   "outputs": [
    {
     "name": "stdout",
     "output_type": "stream",
     "text": [
      "ridge.coef_: [-1.66018119e+00 -1.41929759e+00 -5.37684614e-01  7.96954640e-01\n",
      "  7.74009379e-01  9.00801690e+00 -8.92776134e-02 -4.91574523e+00\n",
      "  4.70214703e+00 -5.75434742e-01 -1.03433773e+00  1.77375286e+00\n",
      " -4.16912180e+00 -2.13431099e-01  3.34424596e-03 -1.04210767e+00\n",
      "  1.56638846e+00 -1.20451306e+00 -1.42821926e+00 -1.61322770e+00\n",
      " -2.42136076e-01 -1.94292142e+00 -1.67700882e+00 -1.48142670e+00\n",
      " -1.04731871e+00 -1.11313713e+00  1.49485608e+00 -1.32119098e+00\n",
      "  2.31624450e+00  5.36928772e-01  3.45017547e+00 -1.23455386e+00\n",
      " -2.35995304e-01 -4.33677055e-01  5.38893908e-01  1.73276291e+00\n",
      " -1.12104286e+00 -1.80935022e+00  2.88495662e+00  1.82746265e+00\n",
      "  6.32937278e-01 -3.47131888e+00  1.89615705e+00 -3.09731568e+00\n",
      "  1.29031258e+00  3.20064563e+00 -2.05596659e+00  8.12855686e-01\n",
      " -3.32761682e+00  7.96954640e-01 -5.86013095e+00 -3.57189492e+00\n",
      "  1.58982272e+00 -1.86216410e+00  3.61069409e+00  3.83871054e+00\n",
      "  2.09210783e-01  1.45641163e+00 -3.71898439e+00 -2.43728264e+00\n",
      " -2.82695659e+00 -1.89357431e+00 -1.00515836e+00 -1.36445946e+00\n",
      " -1.05970963e+00 -2.79742388e+00 -5.76463641e-01 -8.21276002e-01\n",
      "  1.80618447e+01 -7.76371306e-01  2.51323314e+00 -8.74200296e+00\n",
      " -9.28927450e+00 -6.35833636e+00  9.81331630e+00 -8.34429422e+00\n",
      "  2.04363934e+00 -2.70371191e+00  3.56231644e+00  4.88560092e-01\n",
      " -3.63645437e+00 -9.62975567e-01 -5.15644035e+00  9.99195084e-01\n",
      " -1.06904595e+00 -3.30865649e+00  2.01128756e-01 -4.78203750e+00\n",
      " -1.26479048e-01  8.78662293e-03  5.62854157e-01  2.54344334e+00\n",
      "  2.60329865e+00 -8.37207151e+00  9.28661900e-01  2.01937829e+00\n",
      " -7.97643825e-01 -7.26085189e+00  1.76650958e+00 -1.81787063e+00\n",
      " -6.69991765e-01  2.79044443e-01 -4.99596454e+00  1.12372028e+01]\n",
      "ridge.intercept_: 19.772508539375153\n"
     ]
    }
   ],
   "source": [
    "print(\"ridge.coef_: {}\".format(ridge.coef_))\n",
    "print(\"ridge.intercept_: {}\".format(ridge.intercept_))"
   ]
  },
  {
   "cell_type": "code",
   "execution_count": 9,
   "id": "ee8b4443",
   "metadata": {},
   "outputs": [
    {
     "name": "stdout",
     "output_type": "stream",
     "text": [
      "Training set score: 0.87\n",
      "Test set score: 0.81\n"
     ]
    }
   ],
   "source": [
    "print(\"Training set score: {:.2f}\".format(ridge.score(X_train, y_train)))\n",
    "print(\"Test set score: {:.2f}\".format(ridge.score(X_test, y_test)))"
   ]
  },
  {
   "cell_type": "markdown",
   "id": "90aee93f",
   "metadata": {},
   "source": [
    "> Trainging score is less than `LinearRegression` and test score is higher than `LinearRegression`"
   ]
  },
  {
   "cell_type": "code",
   "execution_count": 10,
   "id": "2d088c11",
   "metadata": {},
   "outputs": [
    {
     "name": "stdout",
     "output_type": "stream",
     "text": [
      "Training set score: 0.77\n",
      "Test set score: 0.73\n"
     ]
    }
   ],
   "source": [
    "ridge10 = Ridge(alpha=10).fit(X_train, y_train)\n",
    "print(\"Training set score: {:.2f}\".format(ridge10.score(X_train, y_train)))\n",
    "print(\"Test set score: {:.2f}\".format(ridge10.score(X_test, y_test)))"
   ]
  },
  {
   "cell_type": "code",
   "execution_count": 11,
   "id": "61ae7a82",
   "metadata": {},
   "outputs": [
    {
     "name": "stdout",
     "output_type": "stream",
     "text": [
      "Training set score: 0.92\n",
      "Test set score: 0.82\n"
     ]
    }
   ],
   "source": [
    "ridge01 = Ridge(alpha=.1).fit(X_train, y_train)\n",
    "print(\"Training set score: {:.2f}\".format(ridge01.score(X_train, y_train)))\n",
    "print(\"Test set score: {:.2f}\".format(ridge01.score(X_test, y_test)))"
   ]
  },
  {
   "cell_type": "markdown",
   "id": "64c812a6",
   "metadata": {},
   "source": [
    "- Increasing alpha restricts the coefficients to be closer to 0, thus generalising the model\n",
    "- Decreasing alpha allows coefficients to be less restricted"
   ]
  },
  {
   "cell_type": "code",
   "execution_count": 13,
   "id": "98a0ef01",
   "metadata": {},
   "outputs": [],
   "source": [
    "import matplotlib.pyplot as plt"
   ]
  },
  {
   "cell_type": "code",
   "execution_count": 14,
   "id": "ff099061",
   "metadata": {},
   "outputs": [
    {
     "data": {
      "text/plain": [
       "<matplotlib.legend.Legend at 0x7fb2c7477a30>"
      ]
     },
     "execution_count": 14,
     "metadata": {},
     "output_type": "execute_result"
    },
    {
     "data": {
      "image/png": "[encoded data removed]",
      "text/plain": [
       "<Figure size 640x480 with 1 Axes>"
      ]
     },
     "metadata": {},
     "output_type": "display_data"
    }
   ],
   "source": [
    "plt.plot(ridge.coef_, 's', label=\"Ridge alpha=1\")\n",
    "plt.plot(ridge10.coef_, '^', label=\"Ridge alpha=10\")\n",
    "plt.plot(ridge01.coef_, 'v', label=\"Ridge alpha=0.1\")\n",
    "\n",
    "plt.plot(lr.coef_, 'o', label=\"LinearRegression\")\n",
    "plt.xlabel(\"Coefficient index\")\n",
    "plt.ylabel(\"Coefficient magnitude\")\n",
    "plt.hlines(0, 0, len(lr.coef_))\n",
    "plt.ylim(-25, 25)\n",
    "plt.legend(loc='best')"
   ]
  },
  {
   "cell_type": "code",
   "execution_count": null,
   "id": "073b0794",
   "metadata": {},
   "outputs": [],
   "source": []
  }
 ],
 "metadata": {
  "kernelspec": {
   "display_name": "Python 3 (ipykernel)",
   "language": "python",
   "name": "python3"
  },
  "language_info": {
   "codemirror_mode": {
    "name": "ipython",
    "version": 3
   },
   "file_extension": ".py",
   "mimetype": "text/x-python",
   "name": "python",
   "nbconvert_exporter": "python",
   "pygments_lexer": "ipython3",
   "version": "3.10.9"
  }
 },
 "nbformat": 4,
 "nbformat_minor": 5
}
